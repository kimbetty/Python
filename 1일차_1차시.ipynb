{
  "nbformat": 4,
  "nbformat_minor": 0,
  "metadata": {
    "colab": {
      "name": "1일차_1차시.ipynb",
      "provenance": [],
      "collapsed_sections": [],
      "authorship_tag": "ABX9TyN0DGQhiHg059vz85Pdr3Az",
      "include_colab_link": true
    },
    "kernelspec": {
      "name": "python3",
      "display_name": "Python 3"
    }
  },
  "cells": [
    {
      "cell_type": "markdown",
      "metadata": {
        "id": "view-in-github",
        "colab_type": "text"
      },
      "source": [
        "<a href=\"https://colab.research.google.com/github/kimbetty/Python/blob/master/1%EC%9D%BC%EC%B0%A8_1%EC%B0%A8%EC%8B%9C.ipynb\" target=\"_parent\"><img src=\"https://colab.research.google.com/assets/colab-badge.svg\" alt=\"Open In Colab\"/></a>"
      ]
    },
    {
      "cell_type": "markdown",
      "metadata": {
        "id": "U6SVSRFI3GvK",
        "colab_type": "text"
      },
      "source": [
        "오늘은 **1일차 1교시 출력문** 작성내용입니다.\n",
        "\n",
        "---\n",
        "오늘의 학습목표\n",
        "1.   개발환경 설치\n",
        "2.   출력문 작성\n",
        "---"
      ]
    },
    {
      "cell_type": "code",
      "metadata": {
        "id": "TH8f3Fp93jt_",
        "colab_type": "code",
        "colab": {
          "base_uri": "https://localhost:8080/",
          "height": 35
        },
        "outputId": "9927a977-4d79-4af2-cb51-be4556f6dea6"
      },
      "source": [
        "print('인천정보산업고')"
      ],
      "execution_count": 1,
      "outputs": [
        {
          "output_type": "stream",
          "text": [
            "인천정보산업고\n"
          ],
          "name": "stdout"
        }
      ]
    },
    {
      "cell_type": "code",
      "metadata": {
        "id": "LE_PrwvQ33wx",
        "colab_type": "code",
        "colab": {
          "base_uri": "https://localhost:8080/",
          "height": 35
        },
        "outputId": "08265221-0dd8-4a8e-eca7-e86dac3396f9"
      },
      "source": [
        "a=1\n",
        "b=2\n",
        "a\n",
        "b\n",
        "print(a, b)"
      ],
      "execution_count": 4,
      "outputs": [
        {
          "output_type": "stream",
          "text": [
            "1 2\n"
          ],
          "name": "stdout"
        }
      ]
    },
    {
      "cell_type": "code",
      "metadata": {
        "id": "0UyPpQF03N9e",
        "colab_type": "code",
        "colab": {
          "base_uri": "https://localhost:8080/",
          "height": 35
        },
        "outputId": "6684db48-6ef3-4197-c581-779574946f50"
      },
      "source": [
        "print('재홍 좋아 ' * 3)"
      ],
      "execution_count": 7,
      "outputs": [
        {
          "output_type": "stream",
          "text": [
            "재홍 좋아 재홍 좋아 재홍 좋아 \n"
          ],
          "name": "stdout"
        }
      ]
    },
    {
      "cell_type": "markdown",
      "metadata": {
        "id": "IkvWYrZv4bxy",
        "colab_type": "text"
      },
      "source": [
        "**사칙연산**\n",
        "*사칙연산*\n",
        "\n",
        "```\n",
        "# + , -, *, **, /, //, %\n",
        "a=3, b=2\n",
        "a+b=5\n",
        "```\n",
        "\n"
      ]
    },
    {
      "cell_type": "markdown",
      "metadata": {
        "id": "mBXVcmSa51aA",
        "colab_type": "text"
      },
      "source": [
        "**설명문**"
      ]
    },
    {
      "cell_type": "code",
      "metadata": {
        "id": "w6mZ-xo_4sRO",
        "colab_type": "code",
        "colab": {
          "base_uri": "https://localhost:8080/",
          "height": 35
        },
        "outputId": "3d91aa2b-7d3f-4055-89e9-e728e1d752f1"
      },
      "source": [
        "a=3\n",
        "b=2\n",
        "print('a + b =', a+b)\n",
        "# 나는 주석"
      ],
      "execution_count": 10,
      "outputs": [
        {
          "output_type": "stream",
          "text": [
            "a + b = 5\n"
          ],
          "name": "stdout"
        }
      ]
    }
  ]
}