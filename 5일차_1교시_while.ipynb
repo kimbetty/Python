{
  "nbformat": 4,
  "nbformat_minor": 0,
  "metadata": {
    "colab": {
      "name": "5일차_1교시_while.ipynb",
      "provenance": [],
      "collapsed_sections": [],
      "authorship_tag": "ABX9TyO4wM9O2qk4MW1On0cfmCzR",
      "include_colab_link": true
    },
    "kernelspec": {
      "name": "python3",
      "display_name": "Python 3"
    },
    "accelerator": "GPU"
  },
  "cells": [
    {
      "cell_type": "markdown",
      "metadata": {
        "id": "view-in-github",
        "colab_type": "text"
      },
      "source": [
        "<a href=\"https://colab.research.google.com/github/kimbetty/Python/blob/class/5%EC%9D%BC%EC%B0%A8_1%EA%B5%90%EC%8B%9C_while.ipynb\" target=\"_parent\"><img src=\"https://colab.research.google.com/assets/colab-badge.svg\" alt=\"Open In Colab\"/></a>"
      ]
    },
    {
      "cell_type": "markdown",
      "metadata": {
        "id": "BQTJBjnKQoIa",
        "colab_type": "text"
      },
      "source": [
        ""
      ]
    },
    {
      "cell_type": "markdown",
      "metadata": {
        "id": "sbaCiddQQppL",
        "colab_type": "text"
      },
      "source": [
        "# 1.1.while\n",
        "\n",
        "\n",
        "```\n",
        "i=1                 # 초기값 설정\n",
        "while i<=10 :       # 제어\n",
        "  print(i, end ='') # 본문\n",
        "  i++               # 제어를 위한 증감(무한루프 방지)\n",
        "```\n",
        "\n",
        "\n",
        "\n"
      ]
    },
    {
      "cell_type": "code",
      "metadata": {
        "id": "a7wOcTClOm8W",
        "colab_type": "code",
        "outputId": "f2ccea14-fbd4-441d-c7ef-94fa2a25a6cc",
        "colab": {
          "base_uri": "https://localhost:8080/",
          "height": 35
        }
      },
      "source": [
        "i=1\n",
        "while i<=10 :\n",
        "  print(i, end =' ')\n",
        "  i+=1"
      ],
      "execution_count": 0,
      "outputs": [
        {
          "output_type": "stream",
          "text": [
            "1 2 3 4 5 6 7 8 9 10 "
          ],
          "name": "stdout"
        }
      ]
    },
    {
      "cell_type": "markdown",
      "metadata": {
        "id": "ZaGmYS6pRsW4",
        "colab_type": "text"
      },
      "source": [
        "# 1.2.break ~ continue\n",
        "\n",
        "```\n",
        "continue            # 계속\n",
        "break               # 정지\n",
        "\n",
        "```\n",
        "\n"
      ]
    },
    {
      "cell_type": "code",
      "metadata": {
        "id": "ci1j0t99RdNE",
        "colab_type": "code",
        "outputId": "728874ac-1703-4283-8b47-8a81cab40db0",
        "colab": {
          "base_uri": "https://localhost:8080/",
          "height": 35
        }
      },
      "source": [
        "i=1\n",
        "while i<=10 :\n",
        "  print(i, end =' ')\n",
        "  i+=1\n",
        "  if i<7 : \n",
        "    continue\n",
        "  break  "
      ],
      "execution_count": 0,
      "outputs": [
        {
          "output_type": "stream",
          "text": [
            "1 2 3 4 5 6 "
          ],
          "name": "stdout"
        }
      ]
    },
    {
      "cell_type": "markdown",
      "metadata": {
        "id": "_RNousKPSPPC",
        "colab_type": "text"
      },
      "source": [
        "# [연습문제1]\n",
        "\n",
        "\n",
        "1. 10부터 10단위 100까지의 num List 만들기 : range() 이용\n",
        "2. while문을 이용하여 List 값 출력하기\n",
        "```\n",
        "10\n",
        "20\n",
        "...\n",
        "\n",
        "3. List 합계와 평균구하기\n",
        "4. continue를 이용하여 50 빼고 출력하기\n",
        "5. beak를 이용하여 80까지만 출력하기\n",
        "\n",
        "\n",
        "\n"
      ]
    },
    {
      "cell_type": "code",
      "metadata": {
        "id": "5uJTLKCUUfZ8",
        "colab_type": "code",
        "outputId": "5ab466c3-6158-4c13-98f1-3ffd6feb6da7",
        "colab": {
          "base_uri": "https://localhost:8080/",
          "height": 35
        }
      },
      "source": [
        "# 1. 10부터 10단위 100까지의 num List 만들기 : range() 이용\n",
        "num = list(range(10, 110, 10))\n",
        "num"
      ],
      "execution_count": 0,
      "outputs": [
        {
          "output_type": "execute_result",
          "data": {
            "text/plain": [
              "[10, 20, 30, 40, 50, 60, 70, 80, 90, 100]"
            ]
          },
          "metadata": {
            "tags": []
          },
          "execution_count": 17
        }
      ]
    },
    {
      "cell_type": "code",
      "metadata": {
        "id": "y3rDdmd4Uv4z",
        "colab_type": "code",
        "outputId": "1b647d93-6b65-45da-a5b1-cafc03cf495b",
        "colab": {
          "base_uri": "https://localhost:8080/",
          "height": 197
        }
      },
      "source": [
        "# 2. 10부터 10단위 100까지의 num List 출력 : while, len 이용\n",
        "i=0\n",
        "while( i < len(num)) :\n",
        "  print(num[i])\n",
        "  i+=1"
      ],
      "execution_count": 0,
      "outputs": [
        {
          "output_type": "stream",
          "text": [
            "10\n",
            "20\n",
            "30\n",
            "40\n",
            "50\n",
            "60\n",
            "70\n",
            "80\n",
            "90\n",
            "100\n"
          ],
          "name": "stdout"
        }
      ]
    },
    {
      "cell_type": "markdown",
      "metadata": {
        "id": "J1gURkx4fB-H",
        "colab_type": "text"
      },
      "source": [
        "# while문과 input()\n",
        "입력값이 exit이면 멈추고\n",
        "그렇지 않으면 계속 입력 받고 출력받기\n",
        "\n",
        "```\n",
        "echo = input()\n",
        "\n",
        "```\n",
        "\n"
      ]
    },
    {
      "cell_type": "code",
      "metadata": {
        "id": "wJVzLRhROCv7",
        "colab_type": "code",
        "outputId": "b93ab914-11ef-432e-ba12-7384eaa21167",
        "colab": {
          "base_uri": "https://localhost:8080/",
          "height": 35
        }
      },
      "source": [
        "echo = input()"
      ],
      "execution_count": 0,
      "outputs": [
        {
          "output_type": "stream",
          "text": [
            "fff\n"
          ],
          "name": "stdout"
        }
      ]
    },
    {
      "cell_type": "code",
      "metadata": {
        "id": "KXFxmUFcOH3p",
        "colab_type": "code",
        "outputId": "92abbc79-2ef6-429e-c3c6-196902d40582",
        "colab": {
          "base_uri": "https://localhost:8080/",
          "height": 107
        }
      },
      "source": [
        "echo = input()\n",
        "while echo != 'exit':\n",
        "  print('입력 >>> ',echo)\n",
        "  echo = input()"
      ],
      "execution_count": 0,
      "outputs": [
        {
          "output_type": "stream",
          "text": [
            "hi\n",
            "입력 >>>  hi\n",
            "kk\n",
            "입력 >>>  kk\n",
            "exit\n"
          ],
          "name": "stdout"
        }
      ]
    }
  ]
}