{
  "nbformat": 4,
  "nbformat_minor": 0,
  "metadata": {
    "colab": {
      "name": "5일차_2교시_함수.ipynb",
      "provenance": [],
      "authorship_tag": "ABX9TyOgva+BYkuu/ZRMvDEvwl2K",
      "include_colab_link": true
    },
    "kernelspec": {
      "name": "python3",
      "display_name": "Python 3"
    }
  },
  "cells": [
    {
      "cell_type": "markdown",
      "metadata": {
        "id": "view-in-github",
        "colab_type": "text"
      },
      "source": [
        "<a href=\"https://colab.research.google.com/github/kimbetty/Python/blob/class/5%EC%9D%BC%EC%B0%A8_2%EA%B5%90%EC%8B%9C_%ED%95%A8%EC%88%98.ipynb\" target=\"_parent\"><img src=\"https://colab.research.google.com/assets/colab-badge.svg\" alt=\"Open In Colab\"/></a>"
      ]
    },
    {
      "cell_type": "markdown",
      "metadata": {
        "id": "2WfnO_1VEPun",
        "colab_type": "text"
      },
      "source": [
        "# 0.1.For문 복습"
      ]
    },
    {
      "cell_type": "markdown",
      "metadata": {
        "id": "w3sUJUQTEaN6",
        "colab_type": "text"
      },
      "source": [
        "**[연습문제]**\n",
        "1. 3부터 8까지 2씩 증가하는 수 출력\n",
        "2. \n",
        "```\n",
        "L\n",
        "O\n",
        "V\n",
        "E\n",
        "```\n",
        "\n",
        "```\n",
        "for ch in 'LOVE' :\n",
        "  print(ch)\n",
        "```"
      ]
    },
    {
      "cell_type": "code",
      "metadata": {
        "id": "uUXP4iPTFJOk",
        "colab_type": "code",
        "colab": {
          "base_uri": "https://localhost:8080/",
          "height": 89
        },
        "outputId": "bd137e61-c624-425c-b739-f8c30f927cd1"
      },
      "source": [
        "for ch in 'LOVE' :\n",
        "  print(ch)"
      ],
      "execution_count": 42,
      "outputs": [
        {
          "output_type": "stream",
          "text": [
            "L\n",
            "O\n",
            "V\n",
            "E\n"
          ],
          "name": "stdout"
        }
      ]
    },
    {
      "cell_type": "code",
      "metadata": {
        "id": "tVG47k0xFX4g",
        "colab_type": "code",
        "colab": {
          "base_uri": "https://localhost:8080/",
          "height": 89
        },
        "outputId": "e3344ff2-59f5-40f4-f1e8-2cb011138071"
      },
      "source": [
        "for i in ['트롯트', '힙합', '발라드', '댄스'] :\n",
        "  print(i+' 듣기')"
      ],
      "execution_count": 45,
      "outputs": [
        {
          "output_type": "stream",
          "text": [
            "트롯트 듣기\n",
            "힙합 듣기\n",
            "발라드 듣기\n",
            "댄스 듣기\n"
          ],
          "name": "stdout"
        }
      ]
    },
    {
      "cell_type": "code",
      "metadata": {
        "id": "8l2DS0-8GuvQ",
        "colab_type": "code",
        "colab": {
          "base_uri": "https://localhost:8080/",
          "height": 53
        },
        "outputId": "b469d747-5122-4234-f87a-a8f617a4af7a"
      },
      "source": [
        "for year in (2020, 2021) :\n",
        "  print(year,'년')"
      ],
      "execution_count": 51,
      "outputs": [
        {
          "output_type": "stream",
          "text": [
            "2020 년\n",
            "2021 년\n"
          ],
          "name": "stdout"
        }
      ]
    },
    {
      "cell_type": "code",
      "metadata": {
        "id": "92OTc64iFqVO",
        "colab_type": "code",
        "colab": {
          "base_uri": "https://localhost:8080/",
          "height": 53
        },
        "outputId": "001f3d0c-c6eb-4561-f346-e05527508528"
      },
      "source": [
        "for year in (2020, 2021) :\n",
        "  print(str(year)+'년')"
      ],
      "execution_count": 52,
      "outputs": [
        {
          "output_type": "stream",
          "text": [
            "2020년\n",
            "2021년\n"
          ],
          "name": "stdout"
        }
      ]
    },
    {
      "cell_type": "code",
      "metadata": {
        "id": "ZdGSe-eHG1Xt",
        "colab_type": "code",
        "colab": {
          "base_uri": "https://localhost:8080/",
          "height": 71
        },
        "outputId": "b24c756c-69c2-494d-d6eb-4c95570c7e6c"
      },
      "source": [
        "pl = {'C':1972, 'Java':1995, 'Python':1991}\n",
        "for key in pl:\n",
        "  print(key, '-', pl[key])"
      ],
      "execution_count": 58,
      "outputs": [
        {
          "output_type": "stream",
          "text": [
            "C - 1972\n",
            "Java - 1995\n",
            "Python - 1991\n"
          ],
          "name": "stdout"
        }
      ]
    },
    {
      "cell_type": "code",
      "metadata": {
        "id": "nJoMQ_VRHT7A",
        "colab_type": "code",
        "colab": {
          "base_uri": "https://localhost:8080/",
          "height": 179
        },
        "outputId": "5e27a859-694d-440b-ae3f-bbac181f86af"
      },
      "source": [
        "for i in range(1, 10) :\n",
        "  print('2 × {}={}'.format(i, 2*i))"
      ],
      "execution_count": 60,
      "outputs": [
        {
          "output_type": "stream",
          "text": [
            "2 × 1=2\n",
            "2 × 2=4\n",
            "2 × 3=6\n",
            "2 × 4=8\n",
            "2 × 5=10\n",
            "2 × 6=12\n",
            "2 × 7=14\n",
            "2 × 8=16\n",
            "2 × 9=18\n"
          ],
          "name": "stdout"
        }
      ]
    },
    {
      "cell_type": "code",
      "metadata": {
        "id": "g6zPyUFqF17G",
        "colab_type": "code",
        "colab": {
          "base_uri": "https://localhost:8080/",
          "height": 1000
        },
        "outputId": "5058697a-712e-49c4-df37-c82fc1ca93f9"
      },
      "source": [
        "for i in range(1, 10) :\n",
        "  for j in range(2, 10) :\n",
        "    print('{}×{}={}'.format(j, i,i*j,end=''))\n",
        "    if i == 5 :\n",
        "      break\n",
        "  print()  "
      ],
      "execution_count": 80,
      "outputs": [
        {
          "output_type": "stream",
          "text": [
            "2×1=2\n",
            "3×1=3\n",
            "4×1=4\n",
            "5×1=5\n",
            "6×1=6\n",
            "7×1=7\n",
            "8×1=8\n",
            "9×1=9\n",
            "\n",
            "2×2=4\n",
            "3×2=6\n",
            "4×2=8\n",
            "5×2=10\n",
            "6×2=12\n",
            "7×2=14\n",
            "8×2=16\n",
            "9×2=18\n",
            "\n",
            "2×3=6\n",
            "3×3=9\n",
            "4×3=12\n",
            "5×3=15\n",
            "6×3=18\n",
            "7×3=21\n",
            "8×3=24\n",
            "9×3=27\n",
            "\n",
            "2×4=8\n",
            "3×4=12\n",
            "4×4=16\n",
            "5×4=20\n",
            "6×4=24\n",
            "7×4=28\n",
            "8×4=32\n",
            "9×4=36\n",
            "\n",
            "2×5=10\n",
            "\n",
            "2×6=12\n",
            "3×6=18\n",
            "4×6=24\n",
            "5×6=30\n",
            "6×6=36\n",
            "7×6=42\n",
            "8×6=48\n",
            "9×6=54\n",
            "\n",
            "2×7=14\n",
            "3×7=21\n",
            "4×7=28\n",
            "5×7=35\n",
            "6×7=42\n",
            "7×7=49\n",
            "8×7=56\n",
            "9×7=63\n",
            "\n",
            "2×8=16\n",
            "3×8=24\n",
            "4×8=32\n",
            "5×8=40\n",
            "6×8=48\n",
            "7×8=56\n",
            "8×8=64\n",
            "9×8=72\n",
            "\n",
            "2×9=18\n",
            "3×9=27\n",
            "4×9=36\n",
            "5×9=45\n",
            "6×9=54\n",
            "7×9=63\n",
            "8×9=72\n",
            "9×9=81\n",
            "\n"
          ],
          "name": "stdout"
        }
      ]
    },
    {
      "cell_type": "code",
      "metadata": {
        "id": "u5FbXuzdKOOb",
        "colab_type": "code",
        "colab": {
          "base_uri": "https://localhost:8080/",
          "height": 647
        },
        "outputId": "0fec4ff4-f1c4-45b5-f08c-c12969eeee20"
      },
      "source": [
        "for i in range(2, 10) :\n",
        "  for j in range(1, 10) :\n",
        "    \n",
        "    if i >= 5 :\n",
        "      break\n",
        "    print('%d×%d=%d' %(i,j,(i*j))) \n",
        "\n",
        "  print()  "
      ],
      "execution_count": 108,
      "outputs": [
        {
          "output_type": "stream",
          "text": [
            "2×1=2\n",
            "2×2=4\n",
            "2×3=6\n",
            "2×4=8\n",
            "2×5=10\n",
            "2×6=12\n",
            "2×7=14\n",
            "2×8=16\n",
            "2×9=18\n",
            "\n",
            "3×1=3\n",
            "3×2=6\n",
            "3×3=9\n",
            "3×4=12\n",
            "3×5=15\n",
            "3×6=18\n",
            "3×7=21\n",
            "3×8=24\n",
            "3×9=27\n",
            "\n",
            "4×1=4\n",
            "4×2=8\n",
            "4×3=12\n",
            "4×4=16\n",
            "4×5=20\n",
            "4×6=24\n",
            "4×7=28\n",
            "4×8=32\n",
            "4×9=36\n",
            "\n",
            "\n",
            "\n",
            "\n",
            "\n",
            "\n"
          ],
          "name": "stdout"
        }
      ]
    },
    {
      "cell_type": "code",
      "metadata": {
        "id": "xwEHPClSL3AO",
        "colab_type": "code",
        "colab": {}
      },
      "source": [
        ""
      ],
      "execution_count": 0,
      "outputs": []
    },
    {
      "cell_type": "markdown",
      "metadata": {
        "id": "v8ZMLBMffND6",
        "colab_type": "text"
      },
      "source": [
        "# 1.1. 함수이해하기\n",
        "\n",
        "\n",
        "```\n",
        "def add(a, b) :\n",
        "  return a+b\n",
        "\n",
        "\n",
        "add(3,8)\n",
        "```\n",
        "\n"
      ]
    },
    {
      "cell_type": "code",
      "metadata": {
        "id": "UpU7ibfxfZV6",
        "colab_type": "code",
        "colab": {
          "base_uri": "https://localhost:8080/",
          "height": 35
        },
        "outputId": "6f5724aa-efac-496d-eacb-0366fcf3ae0f"
      },
      "source": [
        "def add(a, b) :\n",
        "  c=a+b\n",
        "  return c\n",
        "  # print('a=',a, 'b=', b, 'a+b=',  c)\n",
        "add(3,8)"
      ],
      "execution_count": 9,
      "outputs": [
        {
          "output_type": "execute_result",
          "data": {
            "text/plain": [
              "11"
            ]
          },
          "metadata": {
            "tags": []
          },
          "execution_count": 9
        }
      ]
    },
    {
      "cell_type": "code",
      "metadata": {
        "id": "xifmH9q-fyEo",
        "colab_type": "code",
        "colab": {
          "base_uri": "https://localhost:8080/",
          "height": 35
        },
        "outputId": "3a0e3d1a-c537-481e-e77c-7dcea401467e"
      },
      "source": [
        "add(11, 2)"
      ],
      "execution_count": 11,
      "outputs": [
        {
          "output_type": "execute_result",
          "data": {
            "text/plain": [
              "13"
            ]
          },
          "metadata": {
            "tags": []
          },
          "execution_count": 11
        }
      ]
    },
    {
      "cell_type": "code",
      "metadata": {
        "id": "eX5amdeUf9-x",
        "colab_type": "code",
        "colab": {}
      },
      "source": [
        "def say():\n",
        "  print('아무노래나 틀어~신나는 걸로')"
      ],
      "execution_count": 0,
      "outputs": []
    },
    {
      "cell_type": "code",
      "metadata": {
        "id": "6nLoxoV8gE9q",
        "colab_type": "code",
        "colab": {
          "base_uri": "https://localhost:8080/",
          "height": 35
        },
        "outputId": "26ec3b6e-36bd-48ba-f9dc-7e4856745ade"
      },
      "source": [
        "say()"
      ],
      "execution_count": 14,
      "outputs": [
        {
          "output_type": "stream",
          "text": [
            "아무노래나 틀어~신나는 걸로\n"
          ],
          "name": "stdout"
        }
      ]
    },
    {
      "cell_type": "code",
      "metadata": {
        "id": "MgIJam0VgHzB",
        "colab_type": "code",
        "colab": {}
      },
      "source": [
        "def say_who(name):\n",
        "  print('아무노래나 틀어~신나는 걸로', name)"
      ],
      "execution_count": 0,
      "outputs": []
    },
    {
      "cell_type": "code",
      "metadata": {
        "id": "W1LeC5WEgUJh",
        "colab_type": "code",
        "colab": {
          "base_uri": "https://localhost:8080/",
          "height": 35
        },
        "outputId": "e2d37338-fbcf-4fbf-af8d-3aa3ab20d969"
      },
      "source": [
        "say_who('Betty') "
      ],
      "execution_count": 17,
      "outputs": [
        {
          "output_type": "stream",
          "text": [
            "아무노래나 틀어~신나는 걸로 Betty\n"
          ],
          "name": "stdout"
        }
      ]
    },
    {
      "cell_type": "markdown",
      "metadata": {
        "id": "TJdvB1ANgcqT",
        "colab_type": "text"
      },
      "source": [
        "# 1.2. lambda 함수\n",
        "```\n",
        "함수 = lambda 변수 : 실행문\n",
        "say_Hi = lambda name : print('Hi~~~~~!', name)"
      ]
    },
    {
      "cell_type": "code",
      "metadata": {
        "id": "cEQxh1gwgzSM",
        "colab_type": "code",
        "colab": {}
      },
      "source": [
        "say_Hi = lambda name : print('Hi~~~~~!', name)"
      ],
      "execution_count": 0,
      "outputs": []
    },
    {
      "cell_type": "code",
      "metadata": {
        "id": "mECn6_nqiAS0",
        "colab_type": "code",
        "colab": {
          "base_uri": "https://localhost:8080/",
          "height": 35
        },
        "outputId": "ed9451cf-c9df-42f9-fb78-2041c2c06d2a"
      },
      "source": [
        "say_Hi(\"최경민\")"
      ],
      "execution_count": 21,
      "outputs": [
        {
          "output_type": "stream",
          "text": [
            "Hi~~~~~! 최경민\n"
          ],
          "name": "stdout"
        }
      ]
    },
    {
      "cell_type": "markdown",
      "metadata": {
        "id": "DuPDCq_XiGPb",
        "colab_type": "text"
      },
      "source": [
        "# **[연습문제]**\n",
        "\n",
        "1. 숫자 2개를 입력받는 in_put이라는 함수를 만든다.\n",
        "2. jegop() 이라는 함수를 만들어 입력받은 수의 제곱을 만든다. 예) 입력받은수 3 2 이면 3의 2승은 9를 리턴한다.\n",
        "\n",
        "\n",
        "---"
      ]
    },
    {
      "cell_type": "code",
      "metadata": {
        "id": "Q6jmMvwPiy5k",
        "colab_type": "code",
        "colab": {}
      },
      "source": [
        "def in_put() :\n",
        "  a, b= input('숫자 2개 입력 >>> ').split()\n",
        "  print('입력한 값 >>> ', a, b)\n",
        "  return int(a), int(b)"
      ],
      "execution_count": 0,
      "outputs": []
    },
    {
      "cell_type": "code",
      "metadata": {
        "id": "rJ5UFe0XjUYh",
        "colab_type": "code",
        "colab": {
          "base_uri": "https://localhost:8080/",
          "height": 71
        },
        "outputId": "73f65b96-0b15-48b3-e370-a288ca2b7005"
      },
      "source": [
        "in_put()"
      ],
      "execution_count": 35,
      "outputs": [
        {
          "output_type": "stream",
          "text": [
            "숫자 2개 입력 >>> 2 3\n",
            "입력한 값 >>>  2 3\n"
          ],
          "name": "stdout"
        },
        {
          "output_type": "execute_result",
          "data": {
            "text/plain": [
              "(2, 3)"
            ]
          },
          "metadata": {
            "tags": []
          },
          "execution_count": 35
        }
      ]
    },
    {
      "cell_type": "code",
      "metadata": {
        "id": "k17NII4rjAQC",
        "colab_type": "code",
        "colab": {}
      },
      "source": [
        "def jegop() :\n",
        "  a, b = in_put() \n",
        "  return a ** b"
      ],
      "execution_count": 0,
      "outputs": []
    },
    {
      "cell_type": "code",
      "metadata": {
        "id": "V7H9Be8mkD0J",
        "colab_type": "code",
        "colab": {
          "base_uri": "https://localhost:8080/",
          "height": 70
        },
        "outputId": "83cb4a42-228e-4295-a691-4318c6b507b0"
      },
      "source": [
        "jegop()"
      ],
      "execution_count": 78,
      "outputs": [
        {
          "output_type": "stream",
          "text": [
            "숫자 2개 입력 >>> 1 2\n",
            "입력한 값 >>>  1 2\n"
          ],
          "name": "stdout"
        },
        {
          "output_type": "execute_result",
          "data": {
            "text/plain": [
              "1"
            ]
          },
          "metadata": {
            "tags": []
          },
          "execution_count": 78
        }
      ]
    },
    {
      "cell_type": "code",
      "metadata": {
        "id": "4imH7y8sJdV4",
        "colab_type": "code",
        "colab": {
          "base_uri": "https://localhost:8080/",
          "height": 386
        },
        "outputId": "4b268745-0e59-4be4-fd30-b975d0d4e404"
      },
      "source": [
        "import this"
      ],
      "execution_count": 79,
      "outputs": [
        {
          "output_type": "stream",
          "text": [
            "The Zen of Python, by Tim Peters\n",
            "\n",
            "Beautiful is better than ugly.\n",
            "Explicit is better than implicit.\n",
            "Simple is better than complex.\n",
            "Complex is better than complicated.\n",
            "Flat is better than nested.\n",
            "Sparse is better than dense.\n",
            "Readability counts.\n",
            "Special cases aren't special enough to break the rules.\n",
            "Although practicality beats purity.\n",
            "Errors should never pass silently.\n",
            "Unless explicitly silenced.\n",
            "In the face of ambiguity, refuse the temptation to guess.\n",
            "There should be one-- and preferably only one --obvious way to do it.\n",
            "Although that way may not be obvious at first unless you're Dutch.\n",
            "Now is better than never.\n",
            "Although never is often better than *right* now.\n",
            "If the implementation is hard to explain, it's a bad idea.\n",
            "If the implementation is easy to explain, it may be a good idea.\n",
            "Namespaces are one honking great idea -- let's do more of those!\n"
          ],
          "name": "stdout"
        }
      ]
    }
  ]
}