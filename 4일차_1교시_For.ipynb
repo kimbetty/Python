{
  "nbformat": 4,
  "nbformat_minor": 0,
  "metadata": {
    "colab": {
      "name": "4일차_1교시_For.ipynb",
      "provenance": [],
      "collapsed_sections": [],
      "toc_visible": true,
      "authorship_tag": "ABX9TyOpSCKthyg/0rAEAZtxB22L",
      "include_colab_link": true
    },
    "kernelspec": {
      "name": "python3",
      "display_name": "Python 3"
    }
  },
  "cells": [
    {
      "cell_type": "markdown",
      "metadata": {
        "id": "view-in-github",
        "colab_type": "text"
      },
      "source": [
        "<a href=\"https://colab.research.google.com/github/kimbetty/Python/blob/class/4%EC%9D%BC%EC%B0%A8_1%EA%B5%90%EC%8B%9C_For.ipynb\" target=\"_parent\"><img src=\"https://colab.research.google.com/assets/colab-badge.svg\" alt=\"Open In Colab\"/></a>"
      ]
    },
    {
      "cell_type": "markdown",
      "metadata": {
        "id": "OEu5k1LEAPzX",
        "colab_type": "text"
      },
      "source": [
        "# 제어문"
      ]
    },
    {
      "cell_type": "code",
      "metadata": {
        "id": "wIbObMmsyr9l",
        "colab_type": "code",
        "outputId": "7e379608-f3b2-468a-d44d-3c099a30467d",
        "colab": {
          "base_uri": "https://localhost:8080/",
          "height": 35
        }
      },
      "source": [
        "range(10)"
      ],
      "execution_count": 0,
      "outputs": [
        {
          "output_type": "execute_result",
          "data": {
            "text/plain": [
              "range(0, 10)"
            ]
          },
          "metadata": {
            "tags": []
          },
          "execution_count": 32
        }
      ]
    },
    {
      "cell_type": "code",
      "metadata": {
        "id": "b_1rN9reyvZj",
        "colab_type": "code",
        "outputId": "19166a0e-8ae3-4df6-90ba-6123c9720607",
        "colab": {
          "base_uri": "https://localhost:8080/",
          "height": 35
        }
      },
      "source": [
        "list(range(1, 11))"
      ],
      "execution_count": 0,
      "outputs": [
        {
          "output_type": "execute_result",
          "data": {
            "text/plain": [
              "[1, 2, 3, 4, 5, 6, 7, 8, 9, 10]"
            ]
          },
          "metadata": {
            "tags": []
          },
          "execution_count": 35
        }
      ]
    },
    {
      "cell_type": "markdown",
      "metadata": {
        "id": "_HwtVm4EALhN",
        "colab_type": "text"
      },
      "source": [
        "**For 문**\n",
        "\n",
        "\n",
        "```\n",
        "# for i in range(초기값, 한계값, 갭) :\n",
        "  print(i)\n",
        "```\n",
        "\n"
      ]
    },
    {
      "cell_type": "code",
      "metadata": {
        "id": "wHSkmujKAl4w",
        "colab_type": "code",
        "outputId": "09d1b2ad-159b-4a4c-f66b-7b7f13ffa8f5",
        "colab": {
          "base_uri": "https://localhost:8080/",
          "height": 126
        }
      },
      "source": [
        "for i in range(1, 13, 2) :\n",
        "  print(i)"
      ],
      "execution_count": 0,
      "outputs": [
        {
          "output_type": "stream",
          "text": [
            "1\n",
            "3\n",
            "5\n",
            "7\n",
            "9\n",
            "11\n"
          ],
          "name": "stdout"
        }
      ]
    },
    {
      "cell_type": "markdown",
      "metadata": {
        "id": "gUcaOWkIhde_",
        "colab_type": "text"
      },
      "source": [
        "**리스트 컴프리헨션(list comprehension)**\n",
        "\n",
        "*   파이썬의 리스트가 특이한 점은 리스트 안에 for 반복문과 if 조건문을 사용할 수 있다.\n",
        "*    리스트 안에 식, for 반복문, if 조건문 등을 지정하여 리스트를 생성하는 것\n",
        "\n",
        "```\n",
        "[식 for 변수 in 리스트]\n",
        "list(식 for 변수 in 리스트)\n",
        "```\n",
        "\n"
      ]
    },
    {
      "cell_type": "code",
      "metadata": {
        "id": "pNORROSdegC7",
        "colab_type": "code",
        "outputId": "aca43805-8e5c-412b-b41d-a6038575db20",
        "colab": {
          "base_uri": "https://localhost:8080/",
          "height": 35
        }
      },
      "source": [
        "a=[1.3, 2.1, 4.5, 5, 5.1]\n",
        "for i in range(len(a)) :\n",
        "  print(i, end=')')\n",
        "  print(a[i], end='   ')"
      ],
      "execution_count": 0,
      "outputs": [
        {
          "output_type": "stream",
          "text": [
            "0)1.3   1)2.1   2)4.5   3)5   4)5.1   "
          ],
          "name": "stdout"
        }
      ]
    },
    {
      "cell_type": "code",
      "metadata": {
        "id": "UJ2W1uwVe1st",
        "colab_type": "code",
        "outputId": "b1dbe8a9-369e-42c4-cc72-871d6588a41d",
        "colab": {
          "base_uri": "https://localhost:8080/",
          "height": 108
        }
      },
      "source": [
        "a=[1.3, 2.1, 4.5, 5, 5.1]\n",
        "for i in range(len(a)) :\n",
        "  print(a[i])"
      ],
      "execution_count": 0,
      "outputs": [
        {
          "output_type": "stream",
          "text": [
            "1.3\n",
            "2.1\n",
            "4.5\n",
            "5\n",
            "5.1\n"
          ],
          "name": "stdout"
        }
      ]
    },
    {
      "cell_type": "markdown",
      "metadata": {
        "id": "kS0jOEIpwm3c",
        "colab_type": "text"
      },
      "source": [
        "**[연습문제]**\n",
        "\n",
        "\n",
        "1.   숫자를 입력받기(단, 정수)\n",
        "2.   입력한 회수 만큼 Python 반복하기\n",
        "\n"
      ]
    },
    {
      "cell_type": "code",
      "metadata": {
        "id": "0RyrRpFYwleN",
        "colab_type": "code",
        "colab": {}
      },
      "source": [
        "count = int(input('반복할 횟수를 입력하세요: '))\n",
        " \n",
        "for i in range(count):\n",
        "    print('Hello, world!', i)"
      ],
      "execution_count": 0,
      "outputs": []
    },
    {
      "cell_type": "code",
      "metadata": {
        "id": "5RNN7ce-f7XV",
        "colab_type": "code",
        "outputId": "83951f4b-725b-4702-b3d6-e4fe6837a8b4",
        "colab": {
          "base_uri": "https://localhost:8080/",
          "height": 54
        }
      },
      "source": [
        "sum=0\n",
        "a=list(map(int, input().split()))\n",
        "for i in range(len(a)) :\n",
        "  sum+=a[i]\n",
        "print(sum)  "
      ],
      "execution_count": 0,
      "outputs": [
        {
          "output_type": "stream",
          "text": [
            "1 2 3\n",
            "6\n"
          ],
          "name": "stdout"
        }
      ]
    },
    {
      "cell_type": "code",
      "metadata": {
        "id": "kBUTQCCjgEo9",
        "colab_type": "code",
        "outputId": "4a520430-c743-4997-b80f-8e445812b7ee",
        "colab": {
          "base_uri": "https://localhost:8080/",
          "height": 209
        }
      },
      "source": [
        "for i in range(len(a)) :\n",
        "  sum += a[i]\n",
        "print(sum)  "
      ],
      "execution_count": 0,
      "outputs": [
        {
          "output_type": "error",
          "ename": "TypeError",
          "evalue": "ignored",
          "traceback": [
            "\u001b[0;31m---------------------------------------------------------------------------\u001b[0m",
            "\u001b[0;31mTypeError\u001b[0m                                 Traceback (most recent call last)",
            "\u001b[0;32m<ipython-input-19-a6b98447720f>\u001b[0m in \u001b[0;36m<module>\u001b[0;34m()\u001b[0m\n\u001b[1;32m      1\u001b[0m \u001b[0;32mfor\u001b[0m \u001b[0mi\u001b[0m \u001b[0;32min\u001b[0m \u001b[0mrange\u001b[0m\u001b[0;34m(\u001b[0m\u001b[0mlen\u001b[0m\u001b[0;34m(\u001b[0m\u001b[0ma\u001b[0m\u001b[0;34m)\u001b[0m\u001b[0;34m)\u001b[0m \u001b[0;34m:\u001b[0m\u001b[0;34m\u001b[0m\u001b[0;34m\u001b[0m\u001b[0m\n\u001b[0;32m----> 2\u001b[0;31m   \u001b[0msum\u001b[0m \u001b[0;34m+=\u001b[0m \u001b[0ma\u001b[0m\u001b[0;34m[\u001b[0m\u001b[0mi\u001b[0m\u001b[0;34m]\u001b[0m\u001b[0;34m\u001b[0m\u001b[0;34m\u001b[0m\u001b[0m\n\u001b[0m\u001b[1;32m      3\u001b[0m \u001b[0mprint\u001b[0m\u001b[0;34m(\u001b[0m\u001b[0msum\u001b[0m\u001b[0;34m)\u001b[0m\u001b[0;34m\u001b[0m\u001b[0;34m\u001b[0m\u001b[0m\n",
            "\u001b[0;31mTypeError\u001b[0m: unsupported operand type(s) for +=: 'builtin_function_or_method' and 'str'"
          ]
        }
      ]
    },
    {
      "cell_type": "code",
      "metadata": {
        "id": "JJ7Al28LA98i",
        "colab_type": "code",
        "colab": {}
      },
      "source": [
        "for i in ['삼성', 'Apple', 'LG', '한화'] :\n",
        "  print(i, end=' ')"
      ],
      "execution_count": 0,
      "outputs": []
    },
    {
      "cell_type": "code",
      "metadata": {
        "id": "UubtdA4mA4LB",
        "colab_type": "code",
        "colab": {}
      },
      "source": [
        "for i in range(1, 13, 2) :\n",
        "  print(i,end = '*')"
      ],
      "execution_count": 0,
      "outputs": []
    },
    {
      "cell_type": "code",
      "metadata": {
        "id": "taIXIt0nSfRC",
        "colab_type": "code",
        "colab": {}
      },
      "source": [
        "for i in ['인천여상', '중앙여상', '인정산', '기계공고'] :\n",
        "  print(i,end=' / ')"
      ],
      "execution_count": 0,
      "outputs": []
    },
    {
      "cell_type": "code",
      "metadata": {
        "id": "mnH6kaJRBPn7",
        "colab_type": "code",
        "colab": {}
      },
      "source": [
        "for i in range(1, 11) :\n",
        "  print('i = ',i)\n",
        "  sum += i\n",
        "print('\\nsum= ', sum)"
      ],
      "execution_count": 0,
      "outputs": []
    },
    {
      "cell_type": "code",
      "metadata": {
        "id": "sfHOKmkCVeIL",
        "colab_type": "code",
        "colab": {}
      },
      "source": [
        "menu=['치킨', '피자', '탕수육']\n",
        "for i in menu:\n",
        "  print('오늘의 메뉴 :' +i)"
      ],
      "execution_count": 0,
      "outputs": []
    },
    {
      "cell_type": "code",
      "metadata": {
        "id": "FBZQBkEPCjzz",
        "colab_type": "code",
        "colab": {}
      },
      "source": [
        "c=[i for i in range(1,11)]\n",
        "c"
      ],
      "execution_count": 0,
      "outputs": []
    },
    {
      "cell_type": "code",
      "metadata": {
        "id": "oCUoFni_CwiT",
        "colab_type": "code",
        "colab": {}
      },
      "source": [
        "import numpy as np\n",
        "np.sort(c)"
      ],
      "execution_count": 0,
      "outputs": []
    },
    {
      "cell_type": "code",
      "metadata": {
        "id": "f_ysU1XjE5Bp",
        "colab_type": "code",
        "colab": {}
      },
      "source": [
        "np.sum(c)"
      ],
      "execution_count": 0,
      "outputs": []
    },
    {
      "cell_type": "code",
      "metadata": {
        "id": "l3ktR7QmFUOO",
        "colab_type": "code",
        "colab": {}
      },
      "source": [
        "import sys\n",
        "sys.version_info"
      ],
      "execution_count": 0,
      "outputs": []
    },
    {
      "cell_type": "code",
      "metadata": {
        "id": "q-ypTAUrJEFG",
        "colab_type": "code",
        "colab": {}
      },
      "source": [
        "np.sort(c)"
      ],
      "execution_count": 0,
      "outputs": []
    },
    {
      "cell_type": "code",
      "metadata": {
        "id": "ZXAee0T2JILW",
        "colab_type": "code",
        "colab": {}
      },
      "source": [
        "np.sum(c)"
      ],
      "execution_count": 0,
      "outputs": []
    },
    {
      "cell_type": "code",
      "metadata": {
        "id": "pOmu4ei1KDod",
        "colab_type": "code",
        "colab": {}
      },
      "source": [
        "np.max(c)"
      ],
      "execution_count": 0,
      "outputs": []
    },
    {
      "cell_type": "code",
      "metadata": {
        "id": "xWEpztGPJ98C",
        "colab_type": "code",
        "colab": {}
      },
      "source": [
        "np.min(c)"
      ],
      "execution_count": 0,
      "outputs": []
    },
    {
      "cell_type": "code",
      "metadata": {
        "id": "wyrdb1kCJRPt",
        "colab_type": "code",
        "colab": {}
      },
      "source": [
        " !cat /etc/issue.net"
      ],
      "execution_count": 0,
      "outputs": []
    },
    {
      "cell_type": "code",
      "metadata": {
        "id": "9HD0_SxTLh6w",
        "colab_type": "code",
        "colab": {}
      },
      "source": [
        "np.sum(c)"
      ],
      "execution_count": 0,
      "outputs": []
    },
    {
      "cell_type": "code",
      "metadata": {
        "id": "MDvZyongMBP3",
        "colab_type": "code",
        "colab": {}
      },
      "source": [
        "#sum(c)"
      ],
      "execution_count": 0,
      "outputs": []
    },
    {
      "cell_type": "markdown",
      "metadata": {
        "id": "EyWCZhWSTZCR",
        "colab_type": "text"
      },
      "source": [
        "**이중  For문**\n",
        "\n",
        "---\n"
      ]
    },
    {
      "cell_type": "code",
      "metadata": {
        "id": "zkom6BTQThnJ",
        "colab_type": "code",
        "colab": {}
      },
      "source": [
        "for i in range(1,6) :\n",
        "  for j in range(1,6) :\n",
        "    print(j, end =' ')\n",
        "  print('')  "
      ],
      "execution_count": 0,
      "outputs": []
    },
    {
      "cell_type": "markdown",
      "metadata": {
        "id": "vBU0lz5fUBd9",
        "colab_type": "text"
      },
      "source": [
        "**[문제1]**\n",
        "\n",
        "```\n",
        "# 코드로 형식 지정됨\n",
        "5 4 3 2 1 \n",
        "5 4 3 2 1 \n",
        "5 4 3 2 1 \n",
        "5 4 3 2 1 \n",
        "5 4 3 2 1\n"
      ]
    },
    {
      "cell_type": "markdown",
      "metadata": {
        "id": "Z8-hujq5UXRy",
        "colab_type": "text"
      },
      "source": [
        "**[문제2]**\n",
        "\n",
        "```\n",
        "# 코드로 형식 지정됨\n",
        "* * * * * \n",
        "* * * * \n",
        "* * * \n",
        "* * \n",
        "* \n",
        "\n"
      ]
    },
    {
      "cell_type": "code",
      "metadata": {
        "id": "6xaUgJuIVLXi",
        "colab_type": "code",
        "colab": {}
      },
      "source": [
        ""
      ],
      "execution_count": 0,
      "outputs": []
    },
    {
      "cell_type": "markdown",
      "metadata": {
        "id": "XZi43LyGUg74",
        "colab_type": "text"
      },
      "source": [
        "**[문제3]**\n",
        "\n",
        "```\n",
        "# 코드로 형식 지정됨\n",
        "1 \n",
        "1 2 \n",
        "1 2 3 \n",
        "1 2 3 4 \n",
        "1 2 3 4 5 \n"
      ]
    },
    {
      "cell_type": "markdown",
      "metadata": {
        "id": "aZTDAdrKUm5E",
        "colab_type": "text"
      },
      "source": [
        "```\n",
        "\n",
        "# 코드로 형식 지정됨\n",
        "1 2 3 4 5 \n",
        "1 2 3 4 \n",
        "1 2 3 \n",
        "1 2 \n",
        "1\n",
        "\n",
        "```\n",
        "\n"
      ]
    },
    {
      "cell_type": "markdown",
      "metadata": {
        "id": "hGdif9HNYzHe",
        "colab_type": "text"
      },
      "source": [
        "**[문제5] 구구단**\n",
        "```\n",
        "# \n",
        "2 * 1 = 2 \n",
        ".....\n",
        "9 * 9 = 81\n",
        "\n",
        "for i in range(2, 10):\n",
        "  for j in range(1, 10):\n",
        "    print(i, '*', j, '=', i*j)\n",
        "```\n",
        "\n"
      ]
    },
    {
      "cell_type": "code",
      "metadata": {
        "id": "C4dUPDTpjb7M",
        "colab_type": "code",
        "outputId": "51d55295-5d08-4904-9f16-1b4467d0d63f",
        "colab": {
          "base_uri": "https://localhost:8080/",
          "height": 175
        }
      },
      "source": [
        "for i in range(1, 10):\n",
        "  for j in range(2, 10):\n",
        "    print('%d*%d=%d'%(j, i, i*j), end='\\t')\n",
        "  print()  \n",
        "  "
      ],
      "execution_count": 9,
      "outputs": [
        {
          "output_type": "stream",
          "text": [
            "2*1=2\t3*1=3\t4*1=4\t5*1=5\t6*1=6\t7*1=7\t8*1=8\t9*1=9\t\n",
            "2*2=4\t3*2=6\t4*2=8\t5*2=10\t6*2=12\t7*2=14\t8*2=16\t9*2=18\t\n",
            "2*3=6\t3*3=9\t4*3=12\t5*3=15\t6*3=18\t7*3=21\t8*3=24\t9*3=27\t\n",
            "2*4=8\t3*4=12\t4*4=16\t5*4=20\t6*4=24\t7*4=28\t8*4=32\t9*4=36\t\n",
            "2*5=10\t3*5=15\t4*5=20\t5*5=25\t6*5=30\t7*5=35\t8*5=40\t9*5=45\t\n",
            "2*6=12\t3*6=18\t4*6=24\t5*6=30\t6*6=36\t7*6=42\t8*6=48\t9*6=54\t\n",
            "2*7=14\t3*7=21\t4*7=28\t5*7=35\t6*7=42\t7*7=49\t8*7=56\t9*7=63\t\n",
            "2*8=16\t3*8=24\t4*8=32\t5*8=40\t6*8=48\t7*8=56\t8*8=64\t9*8=72\t\n",
            "2*9=18\t3*9=27\t4*9=36\t5*9=45\t6*9=54\t7*9=63\t8*9=72\t9*9=81\t\n"
          ],
          "name": "stdout"
        }
      ]
    }
  ]
}